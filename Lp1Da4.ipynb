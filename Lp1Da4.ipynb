{
 "cells": [
  {
   "cell_type": "code",
   "execution_count": 6,
   "metadata": {
    "colab": {},
    "colab_type": "code",
    "id": "gma7Ky9MZ2aj"
   },
   "outputs": [],
   "source": [
    "import numpy as np\n",
    "import pandas as pd\n",
    "%matplotlib inline\n",
    "\n",
    "from sklearn.preprocessing import LabelEncoder\n",
    "\n",
    "import matplotlib.pyplot as plt\n",
    "import seaborn as sns\n",
    "\n",
    "data=pd.read_csv('/home/shubhamkorde/Videos/git/da4/store.csv')"
   ]
  },
  {
   "cell_type": "code",
   "execution_count": 7,
   "metadata": {
    "colab": {},
    "colab_type": "code",
    "id": "spEVQ1R_Z2aq",
    "outputId": "2cbf6101-1fc6-4bfb-e73b-d5cf969ecd9e"
   },
   "outputs": [
    {
     "data": {
      "text/html": [
       "<div>\n",
       "<style scoped>\n",
       "    .dataframe tbody tr th:only-of-type {\n",
       "        vertical-align: middle;\n",
       "    }\n",
       "\n",
       "    .dataframe tbody tr th {\n",
       "        vertical-align: top;\n",
       "    }\n",
       "\n",
       "    .dataframe thead th {\n",
       "        text-align: right;\n",
       "    }\n",
       "</style>\n",
       "<table border=\"1\" class=\"dataframe\">\n",
       "  <thead>\n",
       "    <tr style=\"text-align: right;\">\n",
       "      <th></th>\n",
       "      <th>Duration</th>\n",
       "      <th>Start date</th>\n",
       "      <th>End date</th>\n",
       "      <th>Start station number</th>\n",
       "      <th>Start station</th>\n",
       "      <th>End station number</th>\n",
       "      <th>End station</th>\n",
       "      <th>Bike number</th>\n",
       "      <th>Member type</th>\n",
       "    </tr>\n",
       "  </thead>\n",
       "  <tbody>\n",
       "    <tr>\n",
       "      <th>0</th>\n",
       "      <td>679</td>\n",
       "      <td>2018-05-01 00:00:00</td>\n",
       "      <td>2018-05-01 00:11:19</td>\n",
       "      <td>31302</td>\n",
       "      <td>Wisconsin Ave &amp; Newark St NW</td>\n",
       "      <td>31307</td>\n",
       "      <td>3000 Connecticut Ave NW / National Zoo</td>\n",
       "      <td>W22771</td>\n",
       "      <td>Member</td>\n",
       "    </tr>\n",
       "    <tr>\n",
       "      <th>1</th>\n",
       "      <td>578</td>\n",
       "      <td>2018-05-01 00:00:20</td>\n",
       "      <td>2018-05-01 00:09:59</td>\n",
       "      <td>31232</td>\n",
       "      <td>7th &amp; F St NW / National Portrait Gallery</td>\n",
       "      <td>31609</td>\n",
       "      <td>Maine Ave &amp; 7th St SW</td>\n",
       "      <td>W21320</td>\n",
       "      <td>Casual</td>\n",
       "    </tr>\n",
       "    <tr>\n",
       "      <th>2</th>\n",
       "      <td>580</td>\n",
       "      <td>2018-05-01 00:00:28</td>\n",
       "      <td>2018-05-01 00:10:09</td>\n",
       "      <td>31232</td>\n",
       "      <td>7th &amp; F St NW / National Portrait Gallery</td>\n",
       "      <td>31609</td>\n",
       "      <td>Maine Ave &amp; 7th St SW</td>\n",
       "      <td>W20863</td>\n",
       "      <td>Casual</td>\n",
       "    </tr>\n",
       "    <tr>\n",
       "      <th>3</th>\n",
       "      <td>606</td>\n",
       "      <td>2018-05-01 00:01:22</td>\n",
       "      <td>2018-05-01 00:11:29</td>\n",
       "      <td>31104</td>\n",
       "      <td>Adams Mill &amp; Columbia Rd NW</td>\n",
       "      <td>31509</td>\n",
       "      <td>New Jersey Ave &amp; R St NW</td>\n",
       "      <td>W00822</td>\n",
       "      <td>Member</td>\n",
       "    </tr>\n",
       "    <tr>\n",
       "      <th>4</th>\n",
       "      <td>582</td>\n",
       "      <td>2018-05-01 00:04:52</td>\n",
       "      <td>2018-05-01 00:14:34</td>\n",
       "      <td>31129</td>\n",
       "      <td>15th St &amp; Pennsylvania Ave NW/Pershing Park</td>\n",
       "      <td>31118</td>\n",
       "      <td>3rd &amp; Elm St NW</td>\n",
       "      <td>W21846</td>\n",
       "      <td>Member</td>\n",
       "    </tr>\n",
       "  </tbody>\n",
       "</table>\n",
       "</div>"
      ],
      "text/plain": [
       "   Duration           Start date             End date  Start station number  \\\n",
       "0       679  2018-05-01 00:00:00  2018-05-01 00:11:19                 31302   \n",
       "1       578  2018-05-01 00:00:20  2018-05-01 00:09:59                 31232   \n",
       "2       580  2018-05-01 00:00:28  2018-05-01 00:10:09                 31232   \n",
       "3       606  2018-05-01 00:01:22  2018-05-01 00:11:29                 31104   \n",
       "4       582  2018-05-01 00:04:52  2018-05-01 00:14:34                 31129   \n",
       "\n",
       "                                 Start station  End station number  \\\n",
       "0                 Wisconsin Ave & Newark St NW               31307   \n",
       "1    7th & F St NW / National Portrait Gallery               31609   \n",
       "2    7th & F St NW / National Portrait Gallery               31609   \n",
       "3                  Adams Mill & Columbia Rd NW               31509   \n",
       "4  15th St & Pennsylvania Ave NW/Pershing Park               31118   \n",
       "\n",
       "                              End station Bike number Member type  \n",
       "0  3000 Connecticut Ave NW / National Zoo      W22771      Member  \n",
       "1                   Maine Ave & 7th St SW      W21320      Casual  \n",
       "2                   Maine Ave & 7th St SW      W20863      Casual  \n",
       "3                New Jersey Ave & R St NW      W00822      Member  \n",
       "4                         3rd & Elm St NW      W21846      Member  "
      ]
     },
     "execution_count": 7,
     "metadata": {},
     "output_type": "execute_result"
    }
   ],
   "source": [
    "data.head()   ######info about data\n",
    "\n"
   ]
  },
  {
   "cell_type": "code",
   "execution_count": 4,
   "metadata": {
    "colab": {},
    "colab_type": "code",
    "id": "PmKt6CbmZ2a0",
    "outputId": "a0a8557e-cb70-401d-fec2-339235c240ba"
   },
   "outputs": [
    {
     "name": "stdout",
     "output_type": "stream",
     "text": [
      "<class 'pandas.core.frame.DataFrame'>\n",
      "RangeIndex: 374115 entries, 0 to 374114\n",
      "Data columns (total 9 columns):\n",
      "Duration                374115 non-null int64\n",
      "Start date              374115 non-null object\n",
      "End date                374115 non-null object\n",
      "Start station number    374115 non-null int64\n",
      "Start station           374115 non-null object\n",
      "End station number      374115 non-null int64\n",
      "End station             374115 non-null object\n",
      "Bike number             374115 non-null object\n",
      "Member type             374115 non-null object\n",
      "dtypes: int64(3), object(6)\n",
      "memory usage: 25.7+ MB\n"
     ]
    }
   ],
   "source": [
    "data.info()    ###### info about data"
   ]
  },
  {
   "cell_type": "code",
   "execution_count": 5,
   "metadata": {
    "colab": {},
    "colab_type": "code",
    "id": "9zgZFDqGZ2a7",
    "outputId": "1da3a6dc-1d46-4f99-df94-59ca3a96ab71"
   },
   "outputs": [
    {
     "data": {
      "text/plain": [
       "Duration                 int64\n",
       "Start date              object\n",
       "End date                object\n",
       "Start station number     int64\n",
       "Start station           object\n",
       "End station number       int64\n",
       "End station             object\n",
       "Bike number             object\n",
       "Member type             object\n",
       "dtype: object"
      ]
     },
     "execution_count": 5,
     "metadata": {},
     "output_type": "execute_result"
    }
   ],
   "source": [
    "data.dtypes   ##### info about types"
   ]
  },
  {
   "cell_type": "code",
   "execution_count": 0,
   "metadata": {
    "colab": {},
    "colab_type": "code",
    "id": "crSyF4T8Z2bQ",
    "outputId": "a7d28aa5-dfc5-4a32-da49-798173dcc2d2"
   },
   "outputs": [
    {
     "data": {
      "text/plain": [
       "count    115597.000000\n",
       "mean       1254.649956\n",
       "std        2914.317998\n",
       "min          60.000000\n",
       "25%         403.000000\n",
       "50%         665.000000\n",
       "75%        1120.000000\n",
       "max       85644.000000\n",
       "Name: Duration, dtype: float64"
      ]
     },
     "execution_count": 9,
     "metadata": {
      "tags": []
     },
     "output_type": "execute_result"
    }
   ],
   "source": [
    "data['Duration'].describe()  #### statistics"
   ]
  },
  {
   "cell_type": "code",
   "execution_count": 0,
   "metadata": {
    "colab": {},
    "colab_type": "code",
    "id": "s3H2GzrWZ2ba"
   },
   "outputs": [],
   "source": [
    "data=data.drop('Start date',axis=1)\n",
    "data=data.drop('End date',axis=1)\n",
    "data=data.drop('Start station',axis=1)\n",
    "data=data.drop('End station',axis=1)"
   ]
  },
  {
   "cell_type": "code",
   "execution_count": 0,
   "metadata": {
    "colab": {},
    "colab_type": "code",
    "id": "iVuLCHAvZ2bg"
   },
   "outputs": [],
   "source": [
    "data.head()                                    ########### label encoder\n",
    "le = LabelEncoder()\n",
    "le.fit(data['Member type'])\n",
    "data['Member type'] = le.transform(data['Member type'])"
   ]
  },
  {
   "cell_type": "code",
   "execution_count": 0,
   "metadata": {
    "colab": {},
    "colab_type": "code",
    "id": "yxnZhuMyZ2bk"
   },
   "outputs": [],
   "source": [
    "le = LabelEncoder()\n",
    "le.fit(data['Bike number'])\n",
    "data['Bike number'] = le.transform(data['Bike number'])"
   ]
  },
  {
   "cell_type": "code",
   "execution_count": 0,
   "metadata": {
    "colab": {},
    "colab_type": "code",
    "id": "0ra7kpSYZ2bs",
    "outputId": "3af9556f-eff9-46b5-ccde-1f03dcbc5d04"
   },
   "outputs": [
    {
     "data": {
      "text/html": [
       "<div>\n",
       "<style>\n",
       "    .dataframe thead tr:only-child th {\n",
       "        text-align: right;\n",
       "    }\n",
       "\n",
       "    .dataframe thead th {\n",
       "        text-align: left;\n",
       "    }\n",
       "\n",
       "    .dataframe tbody tr th {\n",
       "        vertical-align: top;\n",
       "    }\n",
       "</style>\n",
       "<table border=\"1\" class=\"dataframe\">\n",
       "  <thead>\n",
       "    <tr style=\"text-align: right;\">\n",
       "      <th></th>\n",
       "      <th>Duration</th>\n",
       "      <th>Start station number</th>\n",
       "      <th>End station number</th>\n",
       "      <th>Bike number</th>\n",
       "      <th>Member type</th>\n",
       "    </tr>\n",
       "  </thead>\n",
       "  <tbody>\n",
       "    <tr>\n",
       "      <th>0</th>\n",
       "      <td>1012</td>\n",
       "      <td>31208</td>\n",
       "      <td>31108</td>\n",
       "      <td>614</td>\n",
       "      <td>1</td>\n",
       "    </tr>\n",
       "    <tr>\n",
       "      <th>1</th>\n",
       "      <td>61</td>\n",
       "      <td>31209</td>\n",
       "      <td>31209</td>\n",
       "      <td>41</td>\n",
       "      <td>1</td>\n",
       "    </tr>\n",
       "    <tr>\n",
       "      <th>2</th>\n",
       "      <td>2690</td>\n",
       "      <td>31600</td>\n",
       "      <td>31100</td>\n",
       "      <td>836</td>\n",
       "      <td>1</td>\n",
       "    </tr>\n",
       "    <tr>\n",
       "      <th>3</th>\n",
       "      <td>1406</td>\n",
       "      <td>31600</td>\n",
       "      <td>31602</td>\n",
       "      <td>282</td>\n",
       "      <td>1</td>\n",
       "    </tr>\n",
       "    <tr>\n",
       "      <th>4</th>\n",
       "      <td>1413</td>\n",
       "      <td>31100</td>\n",
       "      <td>31201</td>\n",
       "      <td>734</td>\n",
       "      <td>1</td>\n",
       "    </tr>\n",
       "  </tbody>\n",
       "</table>\n",
       "</div>"
      ],
      "text/plain": [
       "   Duration  Start station number  End station number  Bike number  \\\n",
       "0      1012                 31208               31108          614   \n",
       "1        61                 31209               31209           41   \n",
       "2      2690                 31600               31100          836   \n",
       "3      1406                 31600               31602          282   \n",
       "4      1413                 31100               31201          734   \n",
       "\n",
       "   Member type  \n",
       "0            1  \n",
       "1            1  \n",
       "2            1  \n",
       "3            1  \n",
       "4            1  "
      ]
     },
     "execution_count": 41,
     "metadata": {
      "tags": []
     },
     "output_type": "execute_result"
    }
   ],
   "source": [
    "data.head()"
   ]
  },
  {
   "cell_type": "code",
   "execution_count": 0,
   "metadata": {
    "colab": {},
    "colab_type": "code",
    "id": "L7VCBXhJZ2b1",
    "outputId": "11c39b8b-ad72-46ab-c7e9-4f55975a3b9f"
   },
   "outputs": [
    {
     "data": {
      "text/plain": [
       "(115597, 5)"
      ]
     },
     "execution_count": 42,
     "metadata": {
      "tags": []
     },
     "output_type": "execute_result"
    }
   ],
   "source": [
    "data.shape     ###### data.size"
   ]
  },
  {
   "cell_type": "code",
   "execution_count": 0,
   "metadata": {
    "colab": {},
    "colab_type": "code",
    "id": "klLaF1JiZ2b_"
   },
   "outputs": [],
   "source": [
    "train=np.array(data.iloc[0:85000])   ### spitting into training and tetsign\n",
    "test=np.array(data.iloc[85000:,])"
   ]
  },
  {
   "cell_type": "code",
   "execution_count": 0,
   "metadata": {
    "colab": {},
    "colab_type": "code",
    "id": "h2T4X9xTZ2cD",
    "outputId": "16679a3a-3d50-435c-fb21-8f3bff2feab9"
   },
   "outputs": [
    {
     "data": {
      "text/plain": [
       "((85000, 5), (30597, 5))"
      ]
     },
     "execution_count": 44,
     "metadata": {
      "tags": []
     },
     "output_type": "execute_result"
    }
   ],
   "source": [
    "train.shape,test.shape       ########  train and test"
   ]
  },
  {
   "cell_type": "code",
   "execution_count": 0,
   "metadata": {
    "colab": {},
    "colab_type": "code",
    "id": "VFFWwo_xZ2cJ"
   },
   "outputs": [],
   "source": [
    "from sklearn.naive_bayes import GaussianNB   ##### guassinan\n",
    "model=GaussianNB()"
   ]
  },
  {
   "cell_type": "code",
   "execution_count": 0,
   "metadata": {
    "colab": {},
    "colab_type": "code",
    "id": "PdC4d402Z2cN"
   },
   "outputs": [],
   "source": [
    "model.fit(train[:,0:4],train[:,4])\n",
    "predicted=model.predict(test[:,0:4])\n"
   ]
  },
  {
   "cell_type": "code",
   "execution_count": 0,
   "metadata": {
    "colab": {},
    "colab_type": "code",
    "id": "Z4Xt4Yu3Z2cR",
    "outputId": "8997730c-bd34-41c2-a963-e44583efe7fd"
   },
   "outputs": [
    {
     "data": {
      "text/plain": [
       "(30597,)"
      ]
     },
     "execution_count": 54,
     "metadata": {
      "tags": []
     },
     "output_type": "execute_result"
    }
   ],
   "source": [
    "predicted.shape"
   ]
  },
  {
   "cell_type": "code",
   "execution_count": 0,
   "metadata": {
    "colab": {},
    "colab_type": "code",
    "id": "k-5sO3H0Z2cY",
    "outputId": "cfe4da95-b69b-4c3a-d917-3d467f281e2e"
   },
   "outputs": [
    {
     "data": {
      "text/plain": [
       "array([1, 1, 1, ..., 1, 1, 0])"
      ]
     },
     "execution_count": 55,
     "metadata": {
      "tags": []
     },
     "output_type": "execute_result"
    }
   ],
   "source": [
    "predicted"
   ]
  },
  {
   "cell_type": "code",
   "execution_count": 0,
   "metadata": {
    "colab": {},
    "colab_type": "code",
    "id": "gYRfRUeTZ2cf"
   },
   "outputs": [],
   "source": [
    "count=0                 ### accuracy\n",
    "for l in range(30597):  \n",
    "    if(predicted[l]==test[l,4]):\n",
    "        count=count+1\n",
    "\n"
   ]
  },
  {
   "cell_type": "code",
   "execution_count": 0,
   "metadata": {
    "colab": {},
    "colab_type": "code",
    "id": "1T_NSHx2Z2cm",
    "outputId": "170b486e-40c1-4a7e-8d48-d4696b447a29"
   },
   "outputs": [
    {
     "data": {
      "text/plain": [
       "28086"
      ]
     },
     "execution_count": 57,
     "metadata": {
      "tags": []
     },
     "output_type": "execute_result"
    }
   ],
   "source": [
    "count"
   ]
  },
  {
   "cell_type": "code",
   "execution_count": 0,
   "metadata": {
    "colab": {},
    "colab_type": "code",
    "id": "yD-CBkACZ2cv",
    "outputId": "3abc6cbd-fa4c-4add-f8f5-0328a4586a43"
   },
   "outputs": [
    {
     "name": "stdout",
     "output_type": "stream",
     "text": [
      "0.9179331306990881\n"
     ]
    }
   ],
   "source": [
    "print(count/30597)"
   ]
  }
 ],
 "metadata": {
  "colab": {
   "name": "Lp1Da4.ipynb",
   "provenance": [],
   "version": "0.3.2"
  },
  "kernelspec": {
   "display_name": "Python 2",
   "language": "python",
   "name": "python2"
  },
  "language_info": {
   "codemirror_mode": {
    "name": "ipython",
    "version": 2
   },
   "file_extension": ".py",
   "mimetype": "text/x-python",
   "name": "python",
   "nbconvert_exporter": "python",
   "pygments_lexer": "ipython2",
   "version": "2.7.15+"
  }
 },
 "nbformat": 4,
 "nbformat_minor": 1
}
